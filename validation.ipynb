{
 "cells": [
  {
   "cell_type": "code",
   "execution_count": 1,
   "metadata": {},
   "outputs": [],
   "source": [
    "import torch\n",
    "import torch.nn as nn\n",
    "from torchvision.transforms import transforms\n",
    "import numpy as np\n",
    "from torch.autograd import Variable\n",
    "from torchvision.models import squeezenet1_1\n",
    "import torch.functional as F\n",
    "from io import open\n",
    "import os\n",
    "from PIL import Image\n",
    "import pathlib\n",
    "import glob\n"
   ]
  },
  {
   "cell_type": "code",
   "execution_count": 2,
   "metadata": {},
   "outputs": [],
   "source": [
    "DATA_ROOT = '/home/becode/Skybase/new_data'\n",
    "valid_path = '/home/becode/Skybase/valid_data/valid'"
   ]
  },
  {
   "cell_type": "code",
   "execution_count": 3,
   "metadata": {},
   "outputs": [
    {
     "data": {
      "text/plain": [
       "['Negative', 'Positive']"
      ]
     },
     "execution_count": 3,
     "metadata": {},
     "output_type": "execute_result"
    }
   ],
   "source": [
    "#categories\n",
    "root=pathlib.Path(DATA_ROOT)\n",
    "classes=sorted([j.name.split('/')[-1] for j in root.iterdir()])\n",
    "classes"
   ]
  },
  {
   "cell_type": "code",
   "execution_count": 4,
   "metadata": {},
   "outputs": [],
   "source": [
    "\n",
    "\n",
    "class ConvNet(nn.Module):\n",
    "    def __init__(self,num_classes=6):\n",
    "        super(ConvNet,self).__init__()\n",
    "        \n",
    "        #Output size after convolution filter\n",
    "        #((w-f+2P)/s) +1\n",
    "        \n",
    "        #Input shape= (256,3,150,150)\n",
    "        \n",
    "        self.conv1=nn.Conv2d(in_channels=3,out_channels=12,kernel_size=3,stride=1,padding=1)\n",
    "        #Shape= (256,12,150,150)\n",
    "        self.bn1=nn.BatchNorm2d(num_features=12)\n",
    "        #Shape= (256,12,150,150)\n",
    "        self.relu1=nn.ReLU()\n",
    "        #Shape= (256,12,150,150)\n",
    "        \n",
    "        self.pool=nn.MaxPool2d(kernel_size=2)\n",
    "        #Reduce the image size be factor 2\n",
    "        #Shape= (256,12,75,75)\n",
    "        \n",
    "        \n",
    "        self.conv2=nn.Conv2d(in_channels=12,out_channels=20,kernel_size=3,stride=1,padding=1)\n",
    "        #Shape= (256,20,75,75)\n",
    "        self.relu2=nn.ReLU()\n",
    "        #Shape= (256,20,75,75)\n",
    "        \n",
    "        \n",
    "        \n",
    "        self.conv3=nn.Conv2d(in_channels=20,out_channels=32,kernel_size=3,stride=1,padding=1)\n",
    "        #Shape= (256,32,75,75)\n",
    "        self.bn3=nn.BatchNorm2d(num_features=32)\n",
    "        #Shape= (256,32,75,75)\n",
    "        self.relu3=nn.ReLU()\n",
    "        #Shape= (256,32,75,75)\n",
    "        \n",
    "        \n",
    "        self.fc=nn.Linear(in_features=75 * 75 * 32,out_features=num_classes)\n",
    "        \n",
    "        \n",
    "        \n",
    "        #Feed forwad function\n",
    "        \n",
    "    def forward(self,input):\n",
    "        output=self.conv1(input)\n",
    "        output=self.bn1(output)\n",
    "        output=self.relu1(output)\n",
    "            \n",
    "        output=self.pool(output)\n",
    "            \n",
    "        output=self.conv2(output)\n",
    "        output=self.relu2(output)\n",
    "            \n",
    "        output=self.conv3(output)\n",
    "        output=self.bn3(output)\n",
    "        output=self.relu3(output)\n",
    "            \n",
    "            \n",
    "            #Above output will be in matrix form, with shape (256,32,75,75)\n",
    "            \n",
    "        output=output.view(-1,32*75*75)\n",
    "            \n",
    "            \n",
    "        output=self.fc(output)\n",
    "            \n",
    "        return output"
   ]
  },
  {
   "cell_type": "code",
   "execution_count": 5,
   "metadata": {},
   "outputs": [
    {
     "data": {
      "text/plain": [
       "ConvNet(\n",
       "  (conv1): Conv2d(3, 12, kernel_size=(3, 3), stride=(1, 1), padding=(1, 1))\n",
       "  (bn1): BatchNorm2d(12, eps=1e-05, momentum=0.1, affine=True, track_running_stats=True)\n",
       "  (relu1): ReLU()\n",
       "  (pool): MaxPool2d(kernel_size=2, stride=2, padding=0, dilation=1, ceil_mode=False)\n",
       "  (conv2): Conv2d(12, 20, kernel_size=(3, 3), stride=(1, 1), padding=(1, 1))\n",
       "  (relu2): ReLU()\n",
       "  (conv3): Conv2d(20, 32, kernel_size=(3, 3), stride=(1, 1), padding=(1, 1))\n",
       "  (bn3): BatchNorm2d(32, eps=1e-05, momentum=0.1, affine=True, track_running_stats=True)\n",
       "  (relu3): ReLU()\n",
       "  (fc): Linear(in_features=180000, out_features=2, bias=True)\n",
       ")"
      ]
     },
     "execution_count": 5,
     "metadata": {},
     "output_type": "execute_result"
    }
   ],
   "source": [
    "checkpoint=torch.load('best_checkpoint.model')\n",
    "model=ConvNet(num_classes=2)\n",
    "model.load_state_dict(checkpoint)\n",
    "model.eval()"
   ]
  },
  {
   "cell_type": "code",
   "execution_count": 6,
   "metadata": {},
   "outputs": [],
   "source": [
    "\n",
    "#Transforms\n",
    "transformer=transforms.Compose([\n",
    "    transforms.Resize((150,150)),\n",
    "    transforms.ToTensor(),  #0-255 to 0-1, numpy to tensors\n",
    "    transforms.Normalize([0.5,0.5,0.5], # 0-1 to [-1,1] , formula (x-mean)/std\n",
    "                        [0.5,0.5,0.5])\n",
    "])"
   ]
  },
  {
   "cell_type": "code",
   "execution_count": 7,
   "metadata": {},
   "outputs": [],
   "source": [
    "#prediction function\n",
    "def prediction(img_path,transformer):\n",
    "    \n",
    "    image=Image.open(img_path)\n",
    "    \n",
    "    image_tensor=transformer(image).float()\n",
    "    \n",
    "    \n",
    "    image_tensor=image_tensor.unsqueeze_(0)\n",
    "    \n",
    "    if torch.cuda.is_available():\n",
    "        image_tensor.cuda()\n",
    "        \n",
    "    input=Variable(image_tensor)\n",
    "    \n",
    "    \n",
    "    output=model(input)\n",
    "    \n",
    "    index=output.data.numpy().argmax()\n",
    "    \n",
    "    pred=classes[index]\n",
    "    \n",
    "    return pred"
   ]
  },
  {
   "cell_type": "code",
   "execution_count": 8,
   "metadata": {},
   "outputs": [],
   "source": [
    "images_path=glob.glob(valid_path+'/*.jpg')"
   ]
  },
  {
   "cell_type": "code",
   "execution_count": 9,
   "metadata": {},
   "outputs": [
    {
     "name": "stderr",
     "output_type": "stream",
     "text": [
      "/home/becode/Skybase/pytorch/pytenv/lib/python3.8/site-packages/torch/cuda/__init__.py:52: UserWarning: CUDA initialization: Found no NVIDIA driver on your system. Please check that you have an NVIDIA GPU and installed a driver from http://www.nvidia.com/Download/index.aspx (Triggered internally at  /pytorch/c10/cuda/CUDAFunctions.cpp:100.)\n",
      "  return torch._C._cuda_getDeviceCount() > 0\n"
     ]
    }
   ],
   "source": [
    "pred_dict={}\n",
    "\n",
    "for i in images_path:\n",
    "    pred_dict[i[i.rfind('/')+1:]]=prediction(i,transformer)"
   ]
  },
  {
   "cell_type": "code",
   "execution_count": 10,
   "metadata": {},
   "outputs": [
    {
     "data": {
      "text/plain": [
       "{'7069-6.jpg': 'Negative',\n",
       " '7069-97.jpg': 'Negative',\n",
       " '7069-159.jpg': 'Negative',\n",
       " '7069-50.jpg': 'Negative',\n",
       " '7069-174.jpg': 'Negative',\n",
       " 'C16.jpg': 'Positive',\n",
       " 'C15.jpg': 'Positive',\n",
       " '7069-79.jpg': 'Negative',\n",
       " '7069-168.jpg': 'Negative',\n",
       " '7069-184.jpg': 'Negative',\n",
       " '7069-31.jpg': 'Negative',\n",
       " '7069-180.jpg': 'Negative',\n",
       " '7069-102.jpg': 'Negative',\n",
       " 'C46.jpg': 'Positive',\n",
       " '7069-86.jpg': 'Negative',\n",
       " 'C70.jpg': 'Negative',\n",
       " '7069-93.jpg': 'Negative',\n",
       " 'C26.jpg': 'Positive',\n",
       " '7069-134.jpg': 'Negative',\n",
       " 'C24.jpg': 'Positive',\n",
       " '7069-219.jpg': 'Negative',\n",
       " 'C67.jpg': 'Positive',\n",
       " '7069-96.jpg': 'Negative',\n",
       " '7069-181.jpg': 'Negative',\n",
       " '7069-112.jpg': 'Negative',\n",
       " 'C37.jpg': 'Positive',\n",
       " '7069-135.jpg': 'Negative',\n",
       " '7069-95.jpg': 'Negative',\n",
       " '7069-133.jpg': 'Negative',\n",
       " 'C45.jpg': 'Positive',\n",
       " '7069-71.jpg': 'Negative',\n",
       " 'C9.jpg': 'Positive',\n",
       " 'C34.jpg': 'Positive',\n",
       " '7069-78.jpg': 'Negative',\n",
       " 'C31.jpg': 'Positive',\n",
       " 'C56.jpg': 'Positive',\n",
       " '7069-187.jpg': 'Negative',\n",
       " '7069-131.jpg': 'Negative',\n",
       " '7069-10.jpg': 'Negative',\n",
       " '7069-129.jpg': 'Negative',\n",
       " 'C39.jpg': 'Positive',\n",
       " '7069-206.jpg': 'Negative',\n",
       " '7069-99.jpg': 'Negative',\n",
       " 'C5.jpg': 'Positive',\n",
       " 'C54.jpg': 'Positive',\n",
       " '7069-156.jpg': 'Negative',\n",
       " '7069-91.jpg': 'Negative',\n",
       " '7069-55.jpg': 'Negative',\n",
       " '7069-81.jpg': 'Negative',\n",
       " 'C61.jpg': 'Positive',\n",
       " 'C19.jpg': 'Positive',\n",
       " '7069-107.jpg': 'Negative',\n",
       " 'C65.jpg': 'Negative',\n",
       " '7069-141.jpg': 'Negative',\n",
       " 'C57.jpg': 'Positive',\n",
       " '7069-175.jpg': 'Negative',\n",
       " 'C68.jpg': 'Positive',\n",
       " '7069-1.jpg': 'Negative',\n",
       " '7069-179.jpg': 'Negative',\n",
       " '7069-117.jpg': 'Negative',\n",
       " 'C1.jpg': 'Positive',\n",
       " 'C18.jpg': 'Positive',\n",
       " '7069-130.jpg': 'Negative',\n",
       " '7069-191.jpg': 'Negative',\n",
       " 'C52.jpg': 'Positive',\n",
       " 'C43.jpg': 'Positive',\n",
       " '7069-165.jpg': 'Negative',\n",
       " '7069-201.jpg': 'Negative',\n",
       " '7069-160.jpg': 'Negative',\n",
       " '7069-194.jpg': 'Negative',\n",
       " 'C50.jpg': 'Positive',\n",
       " 'C66.jpg': 'Positive',\n",
       " '7069-203.jpg': 'Negative',\n",
       " 'C28.jpg': 'Positive',\n",
       " '7069-153.jpg': 'Negative',\n",
       " 'C48.jpg': 'Positive',\n",
       " '7069-210.jpg': 'Negative',\n",
       " '7069-20.jpg': 'Negative',\n",
       " '7069-68.jpg': 'Negative',\n",
       " '7069-9.jpg': 'Negative',\n",
       " '7069-19.jpg': 'Negative',\n",
       " 'C27.jpg': 'Positive',\n",
       " '7069-84.jpg': 'Negative',\n",
       " 'C32.jpg': 'Positive',\n",
       " '7069-215.jpg': 'Negative',\n",
       " '7069-114.jpg': 'Negative',\n",
       " '7069-218.jpg': 'Negative',\n",
       " 'C13.jpg': 'Positive',\n",
       " '7069-66.jpg': 'Negative',\n",
       " '7069-145.jpg': 'Negative',\n",
       " '7069-2.jpg': 'Negative',\n",
       " '7069-56.jpg': 'Negative',\n",
       " '7069-111.jpg': 'Negative',\n",
       " '7069-37.jpg': 'Negative',\n",
       " '7069-199.jpg': 'Negative',\n",
       " '7069-38.jpg': 'Positive',\n",
       " '7069-39.jpg': 'Negative',\n",
       " '7069-100.jpg': 'Negative',\n",
       " 'C11.jpg': 'Positive',\n",
       " 'C23.jpg': 'Positive',\n",
       " 'C36.jpg': 'Positive',\n",
       " 'C33.jpg': 'Positive',\n",
       " 'C60.jpg': 'Negative',\n",
       " 'C0.jpg': 'Positive',\n",
       " 'C53.jpg': 'Positive',\n",
       " 'C8.jpg': 'Positive',\n",
       " 'C29.jpg': 'Positive',\n",
       " 'C41.jpg': 'Positive',\n",
       " 'C44.jpg': 'Positive',\n",
       " 'C62.jpg': 'Positive',\n",
       " 'C2.jpg': 'Negative',\n",
       " 'C58.jpg': 'Positive',\n",
       " 'C22.jpg': 'Positive',\n",
       " 'C20.jpg': 'Positive',\n",
       " 'C38.jpg': 'Positive',\n",
       " 'C55.jpg': 'Positive',\n",
       " 'C3.jpg': 'Positive',\n",
       " 'C10.jpg': 'Positive',\n",
       " 'C49.jpg': 'Negative',\n",
       " 'C69.jpg': 'Positive',\n",
       " 'C51.jpg': 'Positive',\n",
       " 'C17.jpg': 'Positive',\n",
       " 'C21.jpg': 'Positive',\n",
       " 'C25.jpg': 'Positive',\n",
       " 'C4.jpg': 'Positive',\n",
       " 'C59.jpg': 'Negative',\n",
       " 'C42.jpg': 'Positive',\n",
       " 'C35.jpg': 'Positive',\n",
       " 'C7.jpg': 'Positive',\n",
       " 'C64.jpg': 'Positive',\n",
       " 'C63.jpg': 'Positive',\n",
       " 'C12.jpg': 'Positive',\n",
       " 'C47.jpg': 'Positive',\n",
       " 'C14.jpg': 'Positive',\n",
       " 'C30.jpg': 'Positive'}"
      ]
     },
     "execution_count": 10,
     "metadata": {},
     "output_type": "execute_result"
    }
   ],
   "source": [
    "pred_dict"
   ]
  },
  {
   "cell_type": "code",
   "execution_count": null,
   "metadata": {},
   "outputs": [],
   "source": []
  },
  {
   "cell_type": "code",
   "execution_count": null,
   "metadata": {},
   "outputs": [],
   "source": []
  },
  {
   "cell_type": "code",
   "execution_count": null,
   "metadata": {},
   "outputs": [],
   "source": []
  },
  {
   "cell_type": "code",
   "execution_count": null,
   "metadata": {},
   "outputs": [],
   "source": []
  },
  {
   "cell_type": "code",
   "execution_count": null,
   "metadata": {},
   "outputs": [],
   "source": []
  }
 ],
 "metadata": {
  "kernelspec": {
   "display_name": "Python 3",
   "language": "python",
   "name": "python3"
  },
  "language_info": {
   "codemirror_mode": {
    "name": "ipython",
    "version": 3
   },
   "file_extension": ".py",
   "mimetype": "text/x-python",
   "name": "python",
   "nbconvert_exporter": "python",
   "pygments_lexer": "ipython3",
   "version": "3.8.3"
  }
 },
 "nbformat": 4,
 "nbformat_minor": 4
}
